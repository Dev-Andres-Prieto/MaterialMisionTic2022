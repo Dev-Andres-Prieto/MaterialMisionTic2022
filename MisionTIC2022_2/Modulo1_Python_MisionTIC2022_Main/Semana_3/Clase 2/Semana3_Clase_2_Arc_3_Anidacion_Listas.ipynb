{
 "cells": [
  {
   "cell_type": "markdown",
   "metadata": {},
   "source": [
    "# Listas Paralelas\n",
    "Podemos decir que dos listas son paralelas cuando hay una relación entre las componentes de igual subíndice (misma posición) de una lista y otra."
   ]
  },
  {
   "cell_type": "markdown",
   "metadata": {},
   "source": [
    "Ejemplo\n",
    "\n",
    "Desarrollar un programa que permita cargar 5 nombres de personas y sus edades respectivas.\n",
    "\n",
    "Luego de realizar la carga por teclado de todos los datos, imprimir los nombres de las personas mayores de edad (mayores o iguales a 18 años)"
   ]
  },
  {
   "cell_type": "code",
   "execution_count": null,
   "metadata": {},
   "outputs": [],
   "source": [
    "Nombres = []\n",
    "Edades = []\n",
    "\n",
    "Personas = int(input('Ingrese el número de personas a procesar: '))\n",
    "\n",
    "for x in range(Personas):\n",
    "    Nombre = input('Ingrese el nombre de la persona')\n",
    "    Nombres.append(Nombre)\n",
    "    Edad = int(input('Ingrese la edad de la persona'))\n",
    "    Edades.append(Edad)\n",
    "print(f'Nombres {Nombres}\\nEdades {Edades}')\n",
    "\n",
    "for x in range(Personas):\n",
    "    if Edades[x] >= 18:\n",
    "        print(f'\\nNombre de la(s) persona(s) mayore(s) de edad: {Nombres[x]}')"
   ]
  },
  {
   "cell_type": "markdown",
   "metadata": {},
   "source": [
    "# Listas Compuestas\n",
    "\n",
    "Se han trabajado listas cuyos componentes son de tipo: Entero, Flotante, Cadena de caracteres, Mezcla de los anteriores. Pero lo que hace tan flexible a esta estructura de datos, es que podemos almacenar componentes de tipo LISTA, esto, es equivalente al concepto de matrices o arreglos de arreglos."
   ]
  },
  {
   "cell_type": "code",
   "execution_count": null,
   "metadata": {},
   "outputs": [],
   "source": [
    "notas = [\n",
    "    [4,5],\n",
    "    [3,8],\n",
    "    [54,87]\n",
    "] # matriz de 3x2"
   ]
  },
  {
   "cell_type": "markdown",
   "metadata": {},
   "source": [
    "Ahora, Hemos definido una lista de tres elementos de tipo lista.\n",
    "\n",
    "1.- El primer elemento de la lista es otra lista de dos elementos de tipo entero.\n",
    "\n",
    "2.- De forma similar los otros dos elementos de la lista notas son listas de dos elementos de tipo entero.\n",
    "\n",
    "Para definir y crear por asignación una lista de listas tenemos:"
   ]
  },
  {
   "cell_type": "code",
   "execution_count": null,
   "metadata": {},
   "outputs": [],
   "source": [
    "lista = [\n",
    "    [1,2,3],\n",
    "    [5,6,7],\n",
    "    [8,9,0],\n",
    "    [10,11,12]\n",
    "] # matriz 4x3\n",
    "\n",
    "print(lista) #imprime lista completa\n",
    "print(lista[0]) #imprime indice 0 de la lista [1,2,3]\n",
    "print(lista[0][0]) #imprime el indice 0,0 = 1\n",
    "print(lista[2][2]) #imprime el cero"
   ]
  },
  {
   "cell_type": "code",
   "execution_count": null,
   "metadata": {},
   "outputs": [],
   "source": [
    "#Accediendo a todos los elementos de la primera componente de una lista compuesta por listas:\n",
    "\n",
    "lista = [\n",
    "    [1,2,3],\n",
    "    [5,6,7],\n",
    "    [8,9,0],\n",
    "    [10,11,12]\n",
    "] \n",
    "\n",
    "# 4x3: 4 filas, 3 columnas\n",
    "\n",
    "for x in range(len(lista[0])):\n",
    "    print(lista[3][x])"
   ]
  },
  {
   "cell_type": "markdown",
   "metadata": {},
   "source": [
    "Acceder a cada elemento de toda la lista:"
   ]
  },
  {
   "cell_type": "code",
   "execution_count": null,
   "metadata": {},
   "outputs": [],
   "source": [
    "#imprimimos cada elemento entero de cada lista\n",
    "# contenido en la lista principal\n",
    "lista = [\n",
    "    [1,2,3],\n",
    "    [5,6,7],\n",
    "    [8,9,0],\n",
    "    [10,11,12]\n",
    "]\n",
    "\n",
    "for fila in range(len(lista)):\n",
    "    for columna in range(len(lista[fila])):\n",
    "        print(lista[fila][columna], end=\" \")"
   ]
  },
  {
   "cell_type": "markdown",
   "metadata": {},
   "source": [
    "Ejemplo 1: Requerimiento aplicando los onceptos anteriores.\n",
    "\n",
    "• Crear una lista por asignación.\n",
    "\n",
    "• La lista tiene que tener cuatro elementos.\n",
    "\n",
    "• Cada elemento debe ser una lista de 3 enteros.\n",
    "\n",
    "• Imprimir sus elementos accediendo de diferentes modos.\n"
   ]
  },
  {
   "cell_type": "code",
   "execution_count": null,
   "metadata": {},
   "outputs": [],
   "source": [
    "lista = [\n",
    "    [1,2,3],\n",
    "    [5,6,7],\n",
    "    [8,9,0],\n",
    "    [10,11,12]\n",
    "]\n",
    "\n",
    "#imprimimos la lista completa\n",
    "print(lista)\n",
    "print('----------')\n",
    "#imprimimos la primera componente\n",
    "print(lista[0])\n",
    "print('----------')\n",
    "#imprimimos la primera componente de la lista contenida\n",
    "# en la primera componente de la lista principal\n",
    "print(lista[0][0])\n",
    "print('----------')\n",
    "#imprimimos con un For la lista contenida en la primera componente\n",
    "for x in range(len(lista[0])):\n",
    "    print (lista[2][x])\n",
    "print('----------')\n",
    "#imprimimos cada elemento entero de cada lista contenida en la lista\n",
    "for fila in range(len(lista)):\n",
    "    for columna in range(len(lista[fila])):\n",
    "        print(lista[fila][columna], end=\" \")\n",
    "print('----------')"
   ]
  },
  {
   "cell_type": "markdown",
   "metadata": {},
   "source": [
    "Ejemplo 2:\n",
    "\n",
    "• Crear una lista por asignación.\n",
    "\n",
    "• La lista debe tener 2 elementos.\n",
    "\n",
    "• Cada elemento debe ser una lista de 5 enteros.\n",
    "\n",
    "• Calcular y mostrar la suma de cada lista contenida en la lista principal.\n"
   ]
  },
  {
   "cell_type": "code",
   "execution_count": null,
   "metadata": {},
   "outputs": [],
   "source": [
    "#Devuelve la suma de cada una de las dos sublistas contenidas en la lista \n",
    "lista = [\n",
    "    [1,3,5,7,9], \n",
    "    [2,4,6,8,10]\n",
    "] # matriz de 2x5\n",
    "\n",
    "#2x5\n",
    "\n",
    "for fila in range(len(lista)):\n",
    "    suma = 0\n",
    "    for columna in range(len(lista[fila])):\n",
    "        suma += lista[fila][columna]\n",
    "    print(suma)"
   ]
  },
  {
   "cell_type": "markdown",
   "metadata": {},
   "source": [
    "Ejemplo 3:\n",
    "\n",
    "• Crear una lista por asignación. La lista debe que tener 5 elementos.\n",
    "\n",
    "• Cada elemento debe ser una lista, la primera lista tiene que tener un elemento, la segunda dos elementos, la tercera tres elementos y así sucesivamente (componentes tipo lista de tamaño variable).\n",
    "\n",
    "• Sumar todos los valores de las listas."
   ]
  },
  {
   "cell_type": "code",
   "execution_count": null,
   "metadata": {},
   "outputs": [],
   "source": [
    "lista = [\n",
    "    [1],\n",
    "    [1,2],\n",
    "    [1,2,3],\n",
    "    [1,2,3,4],\n",
    "    [1,2,3,4,5]\n",
    "]\n",
    "\n",
    "suma = 0\n",
    "for fila in range(len(lista)):\n",
    "    for columna in range(len(lista[fila])):\n",
    "        suma += lista[fila][columna]\n",
    "    print(suma)"
   ]
  },
  {
   "cell_type": "markdown",
   "metadata": {},
   "source": [
    "Carga dinámica de listas:\n",
    "\n",
    "• En algunas situaciones debemos crear una nueva lista ingresando los datos por teclado o por operaciones del mismo programa.\n",
    "\n",
    "• Se puede requerir la anidación de los elementos dependiendo de lo que se quiera representar.\n"
   ]
  },
  {
   "cell_type": "markdown",
   "metadata": {},
   "source": [
    "Ejemplo 4:\n",
    "\n",
    "• Definir dos listas de 3 elementos.\n",
    "\n",
    "• En la primera lista cada elemento es una sublista con el nombre del padre y la madre de una familia.\n",
    "\n",
    "• La segunda lista está constituida por listas con los nombres de los hijos de cada familia. (Puede haber familias sin hijos)\n",
    "\n",
    "• Imprimir los nombres del padre, la madre y sus hijos. También imprimir solo el nombre del padre y la cantidad de hijos que tiene dicho padre.\n",
    "\n",
    " Listas posibles según el enunciado:\n"
   ]
  },
  {
   "cell_type": "code",
   "execution_count": null,
   "metadata": {},
   "outputs": [],
   "source": [
    "#padres = [['juan','ana'],['carlos','maria'], ['pedro','laura']]\n",
    "#hijos = [['marcos','alberto','silvia'], [], ['oscar']]\n",
    "\n",
    "padres = []\n",
    "hijos = []\n",
    "\n",
    "for k in range(3):\n",
    "    pa = input('Ingrese el nombre del padre: ')\n",
    "    ma = input('Ingrese el nombre del madre: ')\n",
    "    padres.append([pa,ma])\n",
    "    cant = int(input('Cuantos hijos tiene esta familia: '))\n",
    "    hijos.append([])\n",
    "    for x in range(cant):\n",
    "        nom = input('Ingrese el nombre del hijo: ')\n",
    "        hijos[k].append(nom)\n",
    "\n",
    "print('Listado del padre, madre y sus hijos')\n",
    "for k in range(3):\n",
    "    print('Padres: ',padres[k][0])\n",
    "    print('Madre: ',padres[k][1])\n",
    "    for x in range(len(hijos[k])):\n",
    "        print('Hijo: ', hijos[k][x])\n",
    "\n",
    "print('Listado del padre y cantidad de hijos que tiene')\n",
    "for x in range(3):\n",
    "    print('Padres: ',padres[x][0])\n",
    "    print('Cantidad de hijos: ', len(hijos[x]))"
   ]
  }
 ],
 "metadata": {
  "interpreter": {
   "hash": "ad2bdc8ecc057115af97d19610ffacc2b4e99fae6737bb82f5d7fb13d2f2c186"
  },
  "kernelspec": {
   "display_name": "Python 3.9.7 ('base')",
   "language": "python",
   "name": "python3"
  },
  "language_info": {
   "codemirror_mode": {
    "name": "ipython",
    "version": 3
   },
   "file_extension": ".py",
   "mimetype": "text/x-python",
   "name": "python",
   "nbconvert_exporter": "python",
   "pygments_lexer": "ipython3",
   "version": "3.9.7"
  },
  "orig_nbformat": 2
 },
 "nbformat": 4,
 "nbformat_minor": 2
}
