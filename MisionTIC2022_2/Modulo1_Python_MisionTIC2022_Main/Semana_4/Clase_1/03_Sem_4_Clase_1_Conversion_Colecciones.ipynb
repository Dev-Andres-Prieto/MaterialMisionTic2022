{
 "cells": [
  {
   "cell_type": "markdown",
   "metadata": {},
   "source": [
    "# Introducción\n",
    "\n",
    "• En la Unidad 3, hemos trabajado con varios contenedores, además hemos\n",
    "aprendido a diferenciar cuándo pueden ajustarse mejor a nuestras\n",
    "necesidades.\n",
    "\n",
    "• Una de las grandes fortalezas del lenguaje Python, es la gran flexibilidad que\n",
    "presentan los contenedores para su creación y actualización.\n",
    "\n",
    "• Adicionalmente, en Python es posible transformar un contenedor cargado\n",
    "de información, a otro tipo de contenedor en caso de que necesitemos\n",
    "cambiar la forma como manipulamos la información que alojan"
   ]
  },
  {
   "cell_type": "markdown",
   "metadata": {},
   "source": [
    "Conversion de lista a tuplas"
   ]
  },
  {
   "cell_type": "code",
   "execution_count": null,
   "metadata": {},
   "outputs": [],
   "source": [
    "Cadena1 = 'hola '    #Secuencial inmutable\n",
    "Cadena2 = 'mundo'   #Secuencial inmutable\n",
    "numero = 15\n",
    "Tupla = (1,2,3,4,5) #Secuencial inmutable\n",
    "Lista = [1,2,3,4,5] #Secuencial mutable\n",
    "Diccionario = {'01': 1, '02': 2, '03': 4}   #No secuencial mutable\n",
    "Conjunto = {1,2,3,4,5}  #No secuencial inmmutable"
   ]
  },
  {
   "cell_type": "markdown",
   "metadata": {},
   "source": [
    "Conversion de cadena a lista"
   ]
  },
  {
   "cell_type": "code",
   "execution_count": null,
   "metadata": {},
   "outputs": [],
   "source": [
    "Cadena1 = 'hola '    #Secuencial inmutable\n",
    "Cadena2 = 'mundo'   #Secuencial inmutable\n",
    "\n",
    "print('Cadena original: ', Cadena1,Cadena2)\n",
    "\n",
    "lista = list(Cadena1+Cadena2)\n",
    "print('Lista a partir de una cadena de caracteres: ',lista)\n",
    "\n",
    "#El join() toma todos los elementos en un iterable y los une en una sola cadena usando un carácter hash como separador\n",
    "union = ''.join(lista) \n",
    "print('uso de join: ', union)"
   ]
  },
  {
   "cell_type": "markdown",
   "metadata": {},
   "source": [
    "Conversion de cadena a tuplas"
   ]
  },
  {
   "cell_type": "code",
   "execution_count": null,
   "metadata": {},
   "outputs": [],
   "source": [
    "Cadena2 = 'mundo'   #Secuencial inmutable\n",
    "numero = 15\n",
    "\n",
    "tupla1 = tuple(Cadena2)\n",
    "print('\\nTupla a partir de una cadena de caracteres: ', tupla1)\n",
    "\n",
    "tuplaGral = (tupla1, numero, tuple(Cadena2) ) #tupla de tuplas\n",
    "print('Union de cadenas de caracteres y tuplas: ', tuplaGral)"
   ]
  },
  {
   "cell_type": "markdown",
   "metadata": {},
   "source": [
    "Conversion de cadena a set() (conjunto)"
   ]
  },
  {
   "cell_type": "code",
   "execution_count": null,
   "metadata": {},
   "outputs": [],
   "source": [
    "Cadena1 = 'hola '    #Secuencial inmutable\n",
    "Cadena2 = 'mundo'   #Secuencial inmutable\n",
    "\n",
    "print('\\nCadenas originales: ', Cadena1, Cadena2)\n",
    "\n",
    "ConjuntoResultado = set(Cadena1+Cadena2)\n",
    "#ConjuntoOrdenado = sorted(ConjuntoResultado)\n",
    "#print('Conversion de cadena a conjunto: ', ConjuntoOrdenado)\n",
    "print('Conversion de cadena a conjunto: ', ConjuntoResultado)"
   ]
  },
  {
   "cell_type": "markdown",
   "metadata": {},
   "source": [
    "Conversion de lista a tuplas"
   ]
  },
  {
   "cell_type": "code",
   "execution_count": null,
   "metadata": {},
   "outputs": [],
   "source": [
    "Cadena2 = 'mundo'   #Secuencial inmutable\n",
    "\n",
    "lista = list(Cadena2)\n",
    "print('\\nLista original: ', lista)\n",
    "\n",
    "tupla = tuple(lista)\n",
    "print('Conversion de lista a tuplas: ', tupla)"
   ]
  },
  {
   "cell_type": "markdown",
   "metadata": {},
   "source": [
    "Conversion de lista a set()"
   ]
  },
  {
   "cell_type": "code",
   "execution_count": null,
   "metadata": {},
   "outputs": [],
   "source": [
    "Cadena2 = 'holaaaa mundoooo'   #Secuencial inmutable\n",
    "\n",
    "Lista = list(Cadena2)\n",
    "print('\\nLista a partir de una cadena de caracteres: ', Lista)\n",
    "\n",
    "Conjunto = set(Lista)\n",
    "print('Conversion de lista a set(): ', Conjunto)"
   ]
  },
  {
   "cell_type": "markdown",
   "metadata": {},
   "source": [
    "Conversion de tupla a cadena"
   ]
  },
  {
   "cell_type": "code",
   "execution_count": null,
   "metadata": {},
   "outputs": [],
   "source": [
    "Cadena2 = 'Muy buenas noches para todos'   #Secuencial inmutable\n",
    "\n",
    "tupla = tuple(Cadena2)\n",
    "print('\\nTupla a partir de una cadena de caracteres: ', tupla)\n",
    "\n",
    "cadena = ''.join(tupla)\n",
    "print('Conversion de tupla a cadena: ', cadena)"
   ]
  },
  {
   "cell_type": "markdown",
   "metadata": {},
   "source": [
    "Conversion de tuplas a lista"
   ]
  },
  {
   "cell_type": "code",
   "execution_count": null,
   "metadata": {},
   "outputs": [],
   "source": [
    "Cadena1 = 'hola '    #Secuencial inmutable\n",
    "Cadena2 = 'mundo'   #Secuencial inmutable\n",
    "\n",
    "tupla = tuple(Cadena1+Cadena2)\n",
    "print('\\nTupla a partir de dos cadenas de caracteres: ', tupla)\n",
    "\n",
    "lista = list(tupla)\n",
    "print('Conversion de tuplas a lista: ', lista)\n",
    "\n",
    "cadena = ''.join(lista)\n",
    "print('Conversion de tupla a cadena: ', cadena)"
   ]
  },
  {
   "cell_type": "markdown",
   "metadata": {},
   "source": [
    "Conversion de tuplas a conjunto"
   ]
  },
  {
   "cell_type": "code",
   "execution_count": null,
   "metadata": {},
   "outputs": [],
   "source": [
    "Cadena1 = 'hola '    #Secuencial inmutable\n",
    "Cadena2 = 'mundo'   #Secuencial inmutable\n",
    "\n",
    "tupla = tuple(Cadena1+Cadena2)\n",
    "print('\\nTupla a partir de dos cadenas de caracteres: ', tupla)\n",
    "\n",
    "conjunto = set(tupla)\n",
    "print('Conversion de tuplas a conjunto: ',conjunto)\n",
    "\n",
    "cadena = ''.join(conjunto)\n",
    "print('Conversion de tupla a cadena: ', cadena)"
   ]
  },
  {
   "cell_type": "markdown",
   "metadata": {},
   "source": [
    "Conversion de conjunto a cadena"
   ]
  },
  {
   "cell_type": "code",
   "execution_count": null,
   "metadata": {},
   "outputs": [],
   "source": [
    "Cadena1 = 'Buenas noches  '    #Secuencial inmutable\n",
    "Cadena2 = 'para todos'   #Secuencial inmutable\n",
    "\n",
    "conjunto = set(Cadena1+Cadena2)\n",
    "print('\\nConjunto a partir de dos cadenas de caracteres: ',conjunto)\n",
    "\n",
    "cadena = ''.join(conjunto)\n",
    "print('Conversion de conjunto a cadena: ',cadena)"
   ]
  },
  {
   "cell_type": "markdown",
   "metadata": {},
   "source": [
    "Conversion de conjunto a tupla"
   ]
  },
  {
   "cell_type": "code",
   "execution_count": null,
   "metadata": {},
   "outputs": [],
   "source": [
    "Cadena2 = 'Todos los tripulantes son juiciosos'   #Secuencial inmutable\n",
    "\n",
    "conjunto = set(Cadena2)\n",
    "print('\\nConjunto a partir de una cadena de caracteres: ', conjunto)\n",
    "\n",
    "tupla = tuple(conjunto)\n",
    "print('Conversion de conjunto a tupla: ', tupla)"
   ]
  },
  {
   "cell_type": "markdown",
   "metadata": {},
   "source": [
    "Conversion de conjunto a lista"
   ]
  },
  {
   "cell_type": "code",
   "execution_count": null,
   "metadata": {},
   "outputs": [],
   "source": [
    "Cadena1 = 'Estudiar python es lo mejor '    #Secuencial inmutable\n",
    "\n",
    "conjunto = set(Cadena1)\n",
    "print('\\nConjunto a partir de una cadena de caracteres: ', conjunto)\n",
    "\n",
    "lista = list(conjunto)\n",
    "print('Conversion de conjunto a lista: ', lista)"
   ]
  },
  {
   "cell_type": "markdown",
   "metadata": {},
   "source": [
    "#Conversión a Diccionarios\n",
    "\n",
    "• Los diccionarios mezclan características de los conjuntos al no permitir\n",
    "repeticiones de sus etiquetas, conservan el orden como los contenedores\n",
    "diferentes a los conjuntos, pero su conversión requiere resolver la llave o\n",
    "etiqueta que tiene cada uno de sus elementos.\n",
    "\n",
    "• A diferencia de las tuplas, cadenas y listas, cuyos índices o etiquetas son\n",
    "autonuméricos, el diccionario necesita su especificación.\n",
    "\n",
    "• En los siguientes ejemplos se presenta el uso de la función zip para relacionar\n",
    "una colección generada automáticamente con los elementos y satisfacer la\n",
    "llave. Esta función se presentará con más detalle en el transcurso de la unidad."
   ]
  },
  {
   "cell_type": "markdown",
   "metadata": {},
   "source": [
    "Conversion de cadena a diccionario"
   ]
  },
  {
   "cell_type": "code",
   "execution_count": null,
   "metadata": {},
   "outputs": [],
   "source": [
    "Cadena2 = 'mundo'   #Secuencial inmutable\n",
    "\n",
    "print('\\nCadena original: ', Cadena2)\n",
    "\n",
    "diccionario = dict(zip(range(len(Cadena2)), Cadena2))\n",
    "print('Conversion de cadena a diccionario: ', diccionario)"
   ]
  },
  {
   "cell_type": "markdown",
   "metadata": {},
   "source": [
    "Conversion de lista a diccionario"
   ]
  },
  {
   "cell_type": "code",
   "execution_count": null,
   "metadata": {},
   "outputs": [],
   "source": [
    "Cadena1 = 'hola '    #Secuencial inmutable\n",
    "Cadena2 = 'mundo'   #Secuencial inmutable\n",
    "\n",
    "lista = list(Cadena1 + Cadena2)\n",
    "print('\\nLista a partir de dos cadenas de caracteres: ', lista)\n",
    "\n",
    "diccionario = dict(zip(range(len(lista)), lista))\n",
    "print('Conversion de lista a diccionario', diccionario)"
   ]
  },
  {
   "cell_type": "markdown",
   "metadata": {},
   "source": [
    "Conversion de tupla a diccionario"
   ]
  },
  {
   "cell_type": "code",
   "execution_count": null,
   "metadata": {},
   "outputs": [],
   "source": [
    "Cadena1 = 'hola '    #Secuencial inmutable\n",
    "Cadena2 = 'mundo'   #Secuencial inmutable\n",
    "\n",
    "tupla = tuple(Cadena1 + Cadena2)\n",
    "print('\\Tupla a partir de dos cadenas de caracteres: ', tupla)\n",
    "\n",
    "diccionario = dict(zip(range(len(tupla)), tupla))\n",
    "print('Conversion de tupla a diccionario', diccionario)"
   ]
  },
  {
   "cell_type": "markdown",
   "metadata": {},
   "source": [
    "Conversion de conjunto a diccionario"
   ]
  },
  {
   "cell_type": "code",
   "execution_count": null,
   "metadata": {},
   "outputs": [],
   "source": [
    "Cadena1 = 'hola '    #Secuencial inmutable\n",
    "Cadena2 = 'mundo'   #Secuencial inmutable\n",
    "\n",
    "conjunto = set(Cadena1 + Cadena2)\n",
    "print('\\nConjunto a partir de dos cadenas de caracteres', conjunto)\n",
    "\n",
    "diccionario = dict(zip(range(len(conjunto)), conjunto))\n",
    "print('Conversion de conjunto a diccionario', diccionario)"
   ]
  },
  {
   "cell_type": "markdown",
   "metadata": {},
   "source": [
    "#Conversión desde Diccionarios\n",
    "\n",
    "• En el proceso contrario, dado que los diccionarios constituyen dos\n",
    "colecciones, una correspondiente a las llaves y otra correspondiente a los\n",
    "valores, se debe especificar cuál colección se requiere, o generalizar\n",
    "obteniendo todos los ítems, que son retornados como tuplas.\n",
    "\n",
    "• En los siguientes ejemplos se presenta cómo la información se puede\n",
    "extraer y convertir en cualquiera de los contenedores.\n",
    "\n",
    "• En algunos casos sólo se convierten los valores por la compatibilidad de\n",
    "tipos que requerirían funciones adicionales."
   ]
  },
  {
   "cell_type": "markdown",
   "metadata": {},
   "source": [
    "Conversion de diccionario a cadena"
   ]
  },
  {
   "cell_type": "code",
   "execution_count": null,
   "metadata": {},
   "outputs": [],
   "source": [
    "diccionario = {\n",
    "    0: 'H', \n",
    "    1: 'o', \n",
    "    2: 'l', \n",
    "    3: 'a', \n",
    "    4: ' ', \n",
    "    5: 'M', \n",
    "    6: 'u', \n",
    "    7: 'n', \n",
    "    8: 'd', \n",
    "    9: 'o'\n",
    "}\n",
    "\n",
    "print('\\nDiccionario original ',diccionario)\n",
    "\n",
    "cadena = ''.join(diccionario.values())\n",
    "print('Conversion de diccionario a cadena: ',cadena)"
   ]
  },
  {
   "cell_type": "markdown",
   "metadata": {},
   "source": [
    "Conversion de diccionario a tuplas"
   ]
  },
  {
   "cell_type": "code",
   "execution_count": null,
   "metadata": {},
   "outputs": [],
   "source": [
    "diccionario = {\n",
    "    0: 'H', \n",
    "    1: 'o', \n",
    "    2: 'l', \n",
    "    3: 'a', \n",
    "    4: ' ', \n",
    "    5: 'M', \n",
    "    6: 'u', \n",
    "    7: 'n', \n",
    "    8: 'd', \n",
    "    9: 'o'\n",
    "}\n",
    "\n",
    "print('\\nDiccionario original ',diccionario)\n",
    "\n",
    "tuplaLlave = tuple(diccionario.keys())\n",
    "print('Tupla a partir de las claves del diccionario: ',tuplaLlave)\n",
    "\n",
    "tuplaValores = tuple(diccionario.values())\n",
    "print('Tupla a partir de los valores del diccionario: ',tuplaValores)\n",
    "\n",
    "tuplaItems = tuple(diccionario.items())\n",
    "print('Conversion de diccionario a tuplas: ',tuplaItems) #Tupla de tuplas"
   ]
  },
  {
   "cell_type": "markdown",
   "metadata": {},
   "source": [
    "Conversion de diccionario a lista"
   ]
  },
  {
   "cell_type": "code",
   "execution_count": null,
   "metadata": {},
   "outputs": [],
   "source": [
    "diccionario = {\n",
    "    0: 'h', \n",
    "    1: 'o', \n",
    "    2: 'l', \n",
    "    3: 'a', \n",
    "    4: ' ', \n",
    "    5: 'm', \n",
    "    6: 'u', \n",
    "    7: 'n', \n",
    "    8: 'd', \n",
    "    9: 'o'\n",
    "}\n",
    "\n",
    "print('\\nDiccionario original ',diccionario)\n",
    "\n",
    "listaLlave = list(diccionario.keys())\n",
    "\n",
    "print('Lista a partir de las claves del diccionario: ',listaLlave)\n",
    "\n",
    "listaValores = list(diccionario.values())\n",
    "print('Lista a partir de los valores del diccionario: ',listaValores)\n",
    "\n",
    "listaItems = list(diccionario.items())\n",
    "print('Conversion de diccionario a lista: ',listaItems)"
   ]
  },
  {
   "cell_type": "markdown",
   "metadata": {},
   "source": [
    "Conversion de diccionario a conjunto"
   ]
  },
  {
   "cell_type": "code",
   "execution_count": null,
   "metadata": {},
   "outputs": [],
   "source": [
    "diccionario = {\n",
    "    0: 'h', \n",
    "    1: 'o', \n",
    "    2: 'l', \n",
    "    3: 'a', \n",
    "    4: ' ', \n",
    "    5: 'm', \n",
    "    6: 'u', \n",
    "    7: 'n', \n",
    "    8: 'd', \n",
    "    9: 'o'\n",
    "}\n",
    "\n",
    "print('\\nDiccionario original ',diccionario)\n",
    "\n",
    "conjuntoLlave = set(diccionario.keys())\n",
    "print('Conjunto a partir de las claves del diccionario: ',conjuntoLlave)\n",
    "\n",
    "conjuntoValores = set(diccionario.values())\n",
    "print('Conjunto a partir de los valores del diccionario: ',conjuntoValores)\n",
    "\n",
    "conjuntoItems = set(diccionario.items())\n",
    "print('Conversion de diccionario a conjunto: ',conjuntoItems)"
   ]
  }
 ],
 "metadata": {
  "interpreter": {
   "hash": "ad2bdc8ecc057115af97d19610ffacc2b4e99fae6737bb82f5d7fb13d2f2c186"
  },
  "kernelspec": {
   "display_name": "Python 3.9.7 ('base')",
   "language": "python",
   "name": "python3"
  },
  "language_info": {
   "codemirror_mode": {
    "name": "ipython",
    "version": 3
   },
   "file_extension": ".py",
   "mimetype": "text/x-python",
   "name": "python",
   "nbconvert_exporter": "python",
   "pygments_lexer": "ipython3",
   "version": "3.9.7"
  },
  "orig_nbformat": 4
 },
 "nbformat": 4,
 "nbformat_minor": 2
}
