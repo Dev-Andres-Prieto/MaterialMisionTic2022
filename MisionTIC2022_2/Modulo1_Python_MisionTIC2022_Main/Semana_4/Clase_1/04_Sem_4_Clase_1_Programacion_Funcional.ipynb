{
 "cells": [
  {
   "cell_type": "markdown",
   "metadata": {},
   "source": [
    "# Programación Funcional Python\n",
    "\n",
    "## Funciones de Primera Clase\n",
    "### Lambda y Orden Superior\n",
    "\n",
    "El Paradigma de Programación Funcional ha tomado fuerza en los últimos años, antes un enfoque académico, ahora una herramienta de desarrollo que disminuye las asignaciones o estados de las variables (facilita el debugging o depuración).\n",
    "\n",
    "• Python es multiparadigma y se pueden combinar las comodidades del paradigma imperativo, con lo compacto del paradigma de programación funcional.\n",
    "\n",
    "• En resumen, empalma la inmutabilidad de las funciones del paradigma funcional con los efectos colaterales de los paradigmas imperativos (procedural y orientado a objetos) para desarrollar soluciones de software.\n",
    "\n",
    "\n",
    "## Paradigmas de Programación\n",
    "\n",
    "\n",
    "Podemos desarrollar software utilizando cualquiera de los siguientes paradigmas:\n",
    "\n",
    "• Paradigma Imperativo (cómo se hacen las cosas paso a paso)\n",
    "    Spaghetti (Nombre despectivo para código no modular)\n",
    "    Procedural/Estructurado\n",
    "    Orientado a Objetos\n",
    "• Paradigma Declarativo (qué se debe hacer)\n",
    "    Lenguajes para bases de datos\n",
    "    Programación Lógica\n",
    "    Programación Funcional \n",
    "\n",
    "\n",
    "## Conceptos Programación Funcional\n",
    "\n",
    "\n",
    "• Se dice que en un lenguaje (como es el caso de Python) las funciones son de primera clase (o que son \"objetos de primera clase\"), cuando se pueden tratar como cualquier otro valor del lenguaje, es decir, cuando se pueden almacenar en variables, pasar como parámetro y devolver desde funciones, sin ningún tratamiento especial.\n",
    "\n",
    "• Cuando una función no recibe otras funciones como parámetro, se la denomina de primer orden.\n",
    "\n",
    "• En el caso en el que sí las reciba, se llama de orden superior.\n",
    "\n",
    "\n",
    "## Funciones para Colecciones de Datos\n",
    "\n",
    "\n",
    "• Python ofrece unas funciones híbridas entre ambos paradigmas, muy versátiles para trabajar con grandes colecciones de datos, que son funciones de orden superior.\n",
    "\n",
    "• Las funciones más utilizadas de este tipo, para realizar operaciones sobre listas principalmente, sin utilizar ciclos, al estilo del paradigma funcional, son las siguientes:\n",
    "\n",
    "    Map\n",
    "    Reduce\n",
    "    Filter\n",
    "    Zip\n",
    "\n",
    "\n",
    "## Envoltura de Funciones en Python\n",
    "\n",
    "\n",
    "• Algo interesante de las funciones en Python es que estas pueden ser asignadas a variables.\n",
    "• Las funciones pueden ser utilizadas como argumento de otras funciones.\n",
    "• Las funciones pueden retornar otras funciones"
   ]
  },
  {
   "cell_type": "code",
   "execution_count": null,
   "metadata": {},
   "outputs": [],
   "source": [
    "def suma(val1=0, val2=0):\n",
    "    return val1 + val2\n",
    "\n",
    "def operacion(funcion,val1=0, val2=0):\n",
    "    return funcion(val1,val2)\n",
    "\n",
    "functionSuma = suma\n",
    "resultado = operacion(functionSuma, 10, 20)\n",
    "print('El resultado de la suma es = ',resultado)"
   ]
  },
  {
   "cell_type": "code",
   "execution_count": null,
   "metadata": {},
   "outputs": [],
   "source": [
    "def crearFuncion(operador):\n",
    "    if operador == '+':\n",
    "        def suma(val1=0, val2=0):\n",
    "            return val1 + val2\n",
    "        return suma\n",
    "    \n",
    "def operacion(funcion,val1=0, val2=0):\n",
    "    return funcion(val1,val2)\n",
    "\n",
    "functionSuma = suma\n",
    "resultado = operacion(functionSuma, 10, 20)\n",
    "print('\\nEl resultado de la suma es = ',resultado)"
   ]
  },
  {
   "cell_type": "markdown",
   "metadata": {},
   "source": [
    "Ahora la **función operación** puede ser utilizada para ejecutar sumas, restas, multiplicaciones o cualquier tipo de operación que necesitemos. Esta función puede actuar como un **wrapper.**"
   ]
  },
  {
   "cell_type": "markdown",
   "metadata": {},
   "source": [
    "### Por otra parte...\n",
    "\n",
    "\n",
    "• Habrá ocasiones en las cuales necesitemos crear funciones de manera rápida, en tiempo de\n",
    "ejecución.\n",
    "\n",
    "• Funciones las cuales realizan una tarea en concreto, regularmente pequeña.\n",
    "\n",
    "• En estos casos haremos uso de funciones lambda. "
   ]
  },
  {
   "cell_type": "markdown",
   "metadata": {},
   "source": [
    "# Funcíon lambda \n",
    "\n",
    "## Sintaxis\n",
    "\n",
    "argumentos: cuerpo de la función"
   ]
  },
  {
   "cell_type": "code",
   "execution_count": null,
   "metadata": {},
   "outputs": [],
   "source": [
    "# Forma tradicional\n",
    "def suma(valor1, valor2):\n",
    "    return valor1 + valor2\n",
    "\n",
    "suma(3,4)"
   ]
  },
  {
   "cell_type": "code",
   "execution_count": null,
   "metadata": {},
   "outputs": [],
   "source": [
    "# lambda(argumento(s):función)\n",
    "sum = lambda x, y : x + y\n",
    "sum(3,4)"
   ]
  },
  {
   "cell_type": "markdown",
   "metadata": {},
   "source": [
    "# lambda usando map\n",
    "map: función que toma dos argumentos\n",
    "\n",
    "map (funcion, secuencia), donde secuencia puede ser cualquier estructura"
   ]
  },
  {
   "cell_type": "code",
   "execution_count": null,
   "metadata": {},
   "outputs": [],
   "source": [
    "suma = lambda val1=0, val2=0 : val1+val2\n",
    "operacion = lambda funcion, val1=0, val2=0 : funcion(val1, val2)\n",
    "resultado = operacion(suma, 10, 20)\n",
    "print('\\nEl resultado de la suma es = ',resultado)\n",
    "\n",
    "#Conversión de grados Celsius a grados Fahrenheit\n",
    "C = [39.2, 36.5, 37.3, 38, 37.8] \n",
    "#C = (39.2, 36.5, 37.3, 38, 37.8) \n",
    "\n",
    "# lambda (argumento: función) lambda x: (float(9)/5)*x + 32)\n",
    "# map (función, secuencia) C\n",
    "\n",
    "F = list(map(lambda x: (float(9)/5)*x + 32, C)) #Calculo de grados celsius a fahrenheit\n",
    "\n",
    "#F = tuple(map(lambda x: (float(9)/5)*x + 32, C)) #Calculo de grados celsius a fahrenheit\n",
    "\n",
    "print('\\nGrados celsius: ', C)\n",
    "print('Conversión a grados fahrenheit', F)\n",
    "\n",
    "\n",
    "\n",
    "#Conversión de grados Fahrenheit a grados Celsius\n",
    "F = [39.2, 36.5, 37.3, 38, 37.8]\n",
    "C = list(map(lambda x: (float(5)/9)*(x-32), F)) #Calculo de grados fahrenheit a celsius\n",
    "print('\\nGrados fahrenheit: ', F)\n",
    "print('Conversión a grados celsius', C)"
   ]
  },
  {
   "cell_type": "code",
   "execution_count": null,
   "metadata": {},
   "outputs": [],
   "source": [
    "a = (1, 2, 3, 4)\n",
    "b = [17, 12, 11, 10]\n",
    "c = [-1, -4, 5, 9]\n",
    "\n",
    "resultado = list(map(lambda x, y, z : x+y+z, a, b, c)) #Suma de tres listas\n",
    "print('\\nEl resultado de la sumas de las tres variables es: ', resultado)\n",
    "\n",
    "resultado = list(map(lambda x, y : x+y, a, b)) #Suma de dos listas\n",
    "print('\\nEl resultado de la sumas de las dos variables es: ', resultado)\n",
    "\n",
    "resultado = list(map(lambda x, y, z : (2.5*x + 2*y - z), a, b, c)) #Resultado de una función\n",
    "print('\\nEl resultado de la función desarrollada en base a los valores de 3 listas es: ', resultado)\n",
    "\n",
    "#Si una lista tiene menos elementos que las demás, el mapa se detendrá cuando se haya consumido la lista más corta:\n",
    "\n",
    "a = [1, 2, 3]\n",
    "b = [17, 12, 11, 10]\n",
    "c = [-1, -4, 5, 9]\n",
    "resultado = list(map(lambda x, y, z : 2.5*x + 2*y - z, a, b, c))\n",
    "print('\\nEl resultado de la función desarrollada en base a los valores de 3 listas es: ', resultado)"
   ]
  }
 ],
 "metadata": {
  "interpreter": {
   "hash": "ad2bdc8ecc057115af97d19610ffacc2b4e99fae6737bb82f5d7fb13d2f2c186"
  },
  "kernelspec": {
   "display_name": "Python 3.9.7 ('base')",
   "language": "python",
   "name": "python3"
  },
  "language_info": {
   "codemirror_mode": {
    "name": "ipython",
    "version": 3
   },
   "file_extension": ".py",
   "mimetype": "text/x-python",
   "name": "python",
   "nbconvert_exporter": "python",
   "pygments_lexer": "ipython3",
   "version": "3.9.7"
  },
  "orig_nbformat": 4
 },
 "nbformat": 4,
 "nbformat_minor": 2
}
