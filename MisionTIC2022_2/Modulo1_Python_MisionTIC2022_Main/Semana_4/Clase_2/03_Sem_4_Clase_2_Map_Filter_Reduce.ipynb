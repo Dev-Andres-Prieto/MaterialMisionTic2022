{
 "cells": [
  {
   "cell_type": "markdown",
   "metadata": {},
   "source": [
    "# Manipulación de Colecciones\n",
    "## Map, Filter, Zip y Reduce\n",
    "\n",
    "### Introducción\n",
    "Una vez presentadas las funciones de primer orden, funciones lambda y funciones de orden superior, se desarrollan a continuación a través de ejemplos los procedimientos para manipular grandes colecciones de datos:\n",
    "\n",
    "    Map\n",
    "    Filter\n",
    "    Reduce\n",
    "    Zip\n",
    "\n",
    "\n",
    "La función map nos permite aplicar una función sobre cada uno de los elementos de un colección (listas, tuplas, etc, ...).\n",
    "\n",
    "• Haremos uso de esta función siempre que tengamos la necesidad de transformar el valor de cada elemento en otro.\n",
    "\n",
    "La estructura de la función es la siguiente:\n",
    "\n",
    "map: función que toma dos argumentos\n",
    "\n",
    "• map (funcion, secuencia), donde secuencia puede ser cualquier estructura\n",
    "\n",
    "• La función a aplicar debe retornar un nuevo valor. Es apartir de estos nuevos valores que obtendremos una nueva colección."
   ]
  },
  {
   "cell_type": "code",
   "execution_count": null,
   "metadata": {},
   "outputs": [],
   "source": [
    "def cuadrado(elemento=0):\n",
    "    return elemento*elemento\n",
    "\n",
    "lista = list(range(0,10))\n",
    "print('Los valores de la lista son: ', lista)\n",
    "\n",
    "# map: (función,Secuencia=lista=tupla..)\n",
    "resultado = tuple(map(cuadrado, lista))\n",
    "print('El resultado de los cuadrado de la lista son: ', resultado)"
   ]
  },
  {
   "cell_type": "markdown",
   "metadata": {},
   "source": [
    "Desarrollado unicamente con lambda"
   ]
  },
  {
   "cell_type": "code",
   "execution_count": null,
   "metadata": {},
   "outputs": [],
   "source": [
    "lista = list(range(0,10))\n",
    "print(f'Los valores de la lista son: {lista}') # [0, 1, 2, 3, 4, 5, 6, 7, 8, 9]\n",
    "\n",
    "\n",
    "# lambda = (argumento(s) : función). lambda lista : lista*lista\n",
    "# map = (función, secuencia)\n",
    "resultado = tuple(map(lambda elemento : (elemento * elemento), lista)) \n",
    "print(f'El resultado de los cuadrado de la lista son: {resultado}')"
   ]
  },
  {
   "cell_type": "markdown",
   "metadata": {},
   "source": [
    "### Ejercicio : Importando librerias"
   ]
  },
  {
   "cell_type": "code",
   "execution_count": null,
   "metadata": {},
   "outputs": [],
   "source": [
    "from math import pow"
   ]
  },
  {
   "cell_type": "markdown",
   "metadata": {},
   "source": [
    "La función Pow tiene 2 argumentos: valor, potencia, es decir, eleva a el \"valor\" a la \"potencia\""
   ]
  },
  {
   "cell_type": "code",
   "execution_count": null,
   "metadata": {},
   "outputs": [],
   "source": [
    "numero = list(range(0,9))\n",
    "print(f'Los valores de la lista son: {numero}') # [0, 1, 2, 3, 4, 5, 6, 7, 8, 9]\n",
    "\n",
    "# range (start, stop, increment)\n",
    "potencia = list(range(2,11))\n",
    "print(f'Potencias {potencia}')\n",
    "\n",
    "#pow(numero, potencia)\n",
    "# map: función, secuencia, secuencia\n",
    "potenciados = tuple(map(pow, numero, potencia))\n",
    "print(f'\\nLas potencias resultantes son: {potenciados}')\n"
   ]
  },
  {
   "cell_type": "markdown",
   "metadata": {},
   "source": [
    "Imprimir números pares\n"
   ]
  },
  {
   "cell_type": "code",
   "execution_count": null,
   "metadata": {},
   "outputs": [],
   "source": [
    "elementos = list(range(2,10))\n",
    "print(f'La secuencia de elementos a comparar es : {elementos}')\n",
    "\n",
    "pares = list(map(lambda x : x if (x % 2) != 0 else print(f'De la lista en Par es => {x}'), elementos)) # argumentos: cuerpo de la función"
   ]
  },
  {
   "cell_type": "markdown",
   "metadata": {},
   "source": [
    "Imprimir números impares"
   ]
  },
  {
   "cell_type": "code",
   "execution_count": null,
   "metadata": {},
   "outputs": [],
   "source": [
    "elementos = list(range(2,10))\n",
    "print(f'La secuencia de elementos a comparar es : {elementos}')\n",
    "\n",
    "pares = list(map(lambda x: x if (x % 2) == 0 else print(f'De la lista en Impar es => {x}'), elementos)) # argumentos: cuerpo de la función"
   ]
  },
  {
   "cell_type": "markdown",
   "metadata": {},
   "source": [
    "# Función Filter\n",
    "\n",
    "• La función filter, es quizás, una de las funciones más utilizadas al momento de trabajar con colecciones.\n",
    "\n",
    "• Como su nombre lo indica, esta función nos permite realizar un filtro sobre los elementos de la colección.\n",
    "\n",
    "• La función a aplicar será aplicada a cada uno de los elementos de la colección.\n",
    "\n",
    "• Esta función siempre deberá retornar un valor booleano.\n",
    "\n",
    "• Todos aquellos elementos que tengan como resultado True después de aplicar dicha función, serán los elementos que pasen el filtro. A partir de estos elementos se creará una nueva colección. "
   ]
  },
  {
   "cell_type": "markdown",
   "metadata": {},
   "source": [
    "## filter(funcion, secuencia)\n",
    "\n",
    "A continuación, filtramos primero los elementos impares y luego los pares de la secuencia de los primeros 11 números de Fibonacci:\n"
   ]
  },
  {
   "cell_type": "code",
   "execution_count": null,
   "metadata": {},
   "outputs": [],
   "source": [
    "fibonacci = [0,1,1,2,3,5,8,13,21,34,55]\n",
    "print('\\nLista fibonacci: ', fibonacci)\n",
    "\n",
    "odd_numbers = list(filter(lambda x: (x % 2) != 0, fibonacci)) #filtramos los impares\n",
    "print('Lista impares:   ', odd_numbers)\n",
    "\n",
    "even_numbers = list(filter(lambda x: (x % 2) == 0, fibonacci)) #filtramos los pares\n",
    "print('Lista pares      ', even_numbers)\n",
    "\n",
    "even_numbers = list(filter(lambda x: x % 2 - 1, fibonacci)) #filtramos los pares\n",
    "print('Lista pares      ', even_numbers)"
   ]
  },
  {
   "cell_type": "markdown",
   "metadata": {},
   "source": [
    "Obtener los elementos mayores a 5 de la siguiente tupla"
   ]
  },
  {
   "cell_type": "code",
   "execution_count": null,
   "metadata": {},
   "outputs": [],
   "source": [
    "def mayorCinco(elementos):\n",
    "    return elementos>5\n",
    "\n",
    "elementos = tuple(range(0,15))\n",
    "print('\\nTupla completa es: ', elementos)\n",
    "\n",
    "resultado = tuple(filter(mayorCinco, elementos))\n",
    "print('Tupla filtrada es: ', resultado)"
   ]
  },
  {
   "cell_type": "markdown",
   "metadata": {},
   "source": [
    "Ahora Con lambda"
   ]
  },
  {
   "cell_type": "code",
   "execution_count": null,
   "metadata": {},
   "outputs": [],
   "source": [
    "elementos = tuple(range(0,15))\n",
    "print('\\nTupla completa es: ', elementos)\n",
    "\n",
    "resultado = tuple(filter(lambda x:(x > 5), elementos))\n",
    "print('Tupla filtrada es: ', resultado)"
   ]
  },
  {
   "cell_type": "markdown",
   "metadata": {},
   "source": [
    "\n",
    "# Función Reduce\n",
    "• Usaremos la función reduce cuando poseamos una colección de elementos y necesitemos generar un único resultado.\n",
    "\n",
    "• reduce nos permitirá reducir los elementos de la colección.\n",
    "\n",
    "• Podemos ver a esta función como un acumulador.\n",
    "\n",
    "Aquí lo importante es detallar la función a aplicar. \n",
    "\n",
    "• Esta función debe poseer, obligatoriamente, dos parámetros: \n",
    "\n",
    "        • El primer parámetro hará referencia al acumulador, un variable que irá modificando su valor por cada uno de los elementos en la colección.\n",
    "\n",
    "        • Por otro lado, el segundo parámetro hará referencia a cada elemento de la colección. La función debe retornar un nuevo valor, será este nuevo valor el que será asignado al acumulador."
   ]
  },
  {
   "cell_type": "markdown",
   "metadata": {},
   "source": [
    "Se debe importar el método reduce de la libreria functools"
   ]
  },
  {
   "cell_type": "code",
   "execution_count": null,
   "metadata": {},
   "outputs": [],
   "source": [
    "from functools import reduce as r\n",
    "\n",
    "lista = list(range(10,30))\n",
    "print(f'\\nLa lista de todos los valores a sumar es: \\n{lista}')\n",
    "\n",
    "def funcionAcumulador(acumulador=0, elemento=0):\n",
    "    return acumulador+elemento\n",
    "resultado = r(funcionAcumulador, lista)\n",
    "print(f'\\nLa suma de todos los valores de la lista es: {resultado}')"
   ]
  },
  {
   "cell_type": "markdown",
   "metadata": {},
   "source": [
    "Ahora con lambda"
   ]
  },
  {
   "cell_type": "code",
   "execution_count": null,
   "metadata": {},
   "outputs": [],
   "source": [
    "from functools import reduce as r\n",
    "\n",
    "lista = list(range(10,30))\n",
    "print(f'\\nLa lista de todos los valores a sumar es: \\n{lista}')\n",
    "\n",
    "resultado = r(lambda acumulador = 0, elementos = 0: acumulador + elementos, lista )\n",
    "print(f'\\nLa suma de todos los valores de la lista es: {resultado}')\n",
    "\n",
    "# mas rapido todavia\n",
    "masrapido = r(lambda x,y: x+y, list(range(10, 30)))\n",
    "print(f'\\nLa suma de todos los valores de la lista es: {masrapido}')\n"
   ]
  },
  {
   "cell_type": "markdown",
   "metadata": {},
   "source": [
    "Determinar el máximo de una lista de valores numéricos usando reduce:"
   ]
  },
  {
   "cell_type": "code",
   "execution_count": null,
   "metadata": {},
   "outputs": [],
   "source": [
    "from functools import reduce as r\n",
    "\n",
    "f = lambda a,b : a if (a > b) else b\n",
    "print(f'El mayor valor de las lista es: {r(f, {47,11,42,102,13,533})}')"
   ]
  },
  {
   "cell_type": "markdown",
   "metadata": {},
   "source": [
    "Posibilidades de ganar un sorteo de loteria (6 / 49)"
   ]
  },
  {
   "cell_type": "code",
   "execution_count": null,
   "metadata": {},
   "outputs": [],
   "source": [
    "from functools import reduce as r\n",
    "\n",
    "Winner = r(lambda x, y: x*y, range(44,50))/r(lambda x, y: x*y, range(1,7))\n",
    "print(f'\\nPosibilidad de ganar la loteria: {Winner}')"
   ]
  },
  {
   "cell_type": "markdown",
   "metadata": {},
   "source": [
    "# Función Zip\n",
    "\n",
    "• Zip es una función para reorganizar listas.\n",
    "\n",
    "• Como parámetros admite un conjunto de listas.\n",
    "\n",
    "• Lo que hace es tomar el elemento i-ésimo de cada lista y unirlos en una tupla, después une todas las tuplas en una sola lista."
   ]
  },
  {
   "cell_type": "code",
   "execution_count": null,
   "metadata": {},
   "outputs": [],
   "source": [
    "a = [\"a\", \"b\", \"c\", \"d\", \"e\", \"f\"]\n",
    "b = [5, 3, 7, 9, 11, 2]\n",
    "print('\\n')\n",
    "for t in zip(a,b):\n",
    "    print(t)"
   ]
  },
  {
   "cell_type": "code",
   "execution_count": null,
   "metadata": {},
   "outputs": [],
   "source": [
    "location = {\n",
    "    \"Helgoland\", \n",
    "    \"Kiel\",\n",
    "    \"Berlin-Tegel\", \n",
    "    \"Konstanz\",\n",
    "    \"Hohenpeißenberg\"\n",
    "} # Conjunto (set())\n",
    "\n",
    "air_pressure = [1021.2, 1019.9, 1023.7, 1023.1, 1027.7] #Lista\n",
    "temperatures = (6.0, 4.3, 2.7, -1.4, -4.4)  #Tupla\n",
    "altitude = (4, 27, 37, 443, 977)    #Tupla\n",
    "                \n",
    "print('\\n')\n",
    "for t in zip(location, air_pressure, temperatures, altitude):\n",
    "    print(t)\n",
    "    print(f'La ciudad de {t[0]} tiene una presión de aire de {t[1]}, temperatura de {t[2]} y altitud de {t[3]}')"
   ]
  }
 ],
 "metadata": {
  "interpreter": {
   "hash": "ad2bdc8ecc057115af97d19610ffacc2b4e99fae6737bb82f5d7fb13d2f2c186"
  },
  "kernelspec": {
   "display_name": "Python 3.9.7 ('base')",
   "language": "python",
   "name": "python3"
  },
  "language_info": {
   "codemirror_mode": {
    "name": "ipython",
    "version": 3
   },
   "file_extension": ".py",
   "mimetype": "text/x-python",
   "name": "python",
   "nbconvert_exporter": "python",
   "pygments_lexer": "ipython3",
   "version": "3.9.7"
  },
  "orig_nbformat": 4
 },
 "nbformat": 4,
 "nbformat_minor": 2
}
