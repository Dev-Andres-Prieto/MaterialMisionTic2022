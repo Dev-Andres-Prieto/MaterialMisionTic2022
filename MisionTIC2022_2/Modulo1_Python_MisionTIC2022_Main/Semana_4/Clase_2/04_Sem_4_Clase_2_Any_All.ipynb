{
 "cells": [
  {
   "cell_type": "markdown",
   "metadata": {},
   "source": [
    "# Decisiones Generalizadas\n",
    "## Any, All y Aplicaciones\n",
    "\n",
    "\n",
    "### Introducción\n",
    "\n",
    "Hemos visto una parte del paradigma de programación funcional en Python, el cual puede ser fácilmente mezclado con paradigmas imperativos, aprovechando la disminución de los cambios de estados de las variables. Así como se pueden generalizar los cómputos para contenedores, también es posible la generalización de decisiones. **Any y All** nos permiten coleccionar sentencias declarativas o valores de verdad para tomar una decisión.\n",
    "\n",
    "### All y Any\n",
    "\n",
    "Las funciones all y any se aplican sobre un iterable (una estructura que podamos recorrer de forma iterativa, como una lista o un conjunto) \n",
    "\n",
    "        • Devuelven True si todos los elementos son True (en el caso de la función all) \n",
    "        • Devuelve False si y solo si todos los elementos son falsos (en el caso de la función any)."
   ]
  },
  {
   "cell_type": "markdown",
   "metadata": {},
   "source": [
    "Un caso especial se produce cuando el iterable en cuestión está vacío (cuando no tiene ningún elemento). En esta caso la función all  devuelve True y la función any devuelve False:"
   ]
  },
  {
   "cell_type": "code",
   "execution_count": null,
   "metadata": {},
   "outputs": [],
   "source": [
    "# Devuelve verdadero si todos los elementos son verdaderos (o si el iterable está vacío)(AND)\n",
    "\n",
    "print(all(list())) #True"
   ]
  },
  {
   "cell_type": "code",
   "execution_count": null,
   "metadata": {},
   "outputs": [],
   "source": [
    "#Devuelve verdadero si alguno de los elementos es verdadero. Devuelve False si está vacío o si todos son falsos (OR)\n",
    "\n",
    "print(any(list())) #False"
   ]
  },
  {
   "cell_type": "markdown",
   "metadata": {},
   "source": [
    "## Ejemplo All, Any y Programación Funcional\n",
    "\n",
    "La empresa ABCD tiene hasta 100 empleados y ha decidido crear un número de identificación único UID para cada uno de sus empleados. En ese sentido, se le ha asignado la tarea de validar los UIDs generados aleatoriamente. Muy importante, un UID válido debe cumplir con las siguientes reglas:\n",
    "\n",
    "• Debe contener por lo menos dos letras mayúsculas en el alfabeto inglés.\n",
    "\n",
    "• Debe tener por lo menos 3 dígitos.\n",
    "\n",
    "• Contener únicamente dígitos alfanuméricos.\n",
    "\n",
    "• No tener repeticiones.\n",
    "\n",
    "• Contener exactamente 10 caracteres."
   ]
  },
  {
   "cell_type": "code",
   "execution_count": null,
   "metadata": {},
   "outputs": [],
   "source": [
    "# Aquí todos los iterables son verdaderos, así que all devolverá True.\n",
    "print (all([True, True, True, True]))"
   ]
  },
  {
   "cell_type": "code",
   "execution_count": null,
   "metadata": {},
   "outputs": [],
   "source": [
    "# Aquí el método provocará un cortocircuito en el primer elemento (Falso) y devolverá False.\n",
    "print (all([False, True, True, False]))"
   ]
  },
  {
   "cell_type": "code",
   "execution_count": null,
   "metadata": {},
   "outputs": [],
   "source": [
    "# Esta declaración devolverá False, ya que False se encuentra en los iterables.\n",
    "print (all([False, False, False]))"
   ]
  },
  {
   "cell_type": "code",
   "execution_count": null,
   "metadata": {},
   "outputs": [],
   "source": [
    "# Como todos son falsos, se devuelve false\n",
    "print (any([False, False, False, False]))"
   ]
  },
  {
   "cell_type": "code",
   "execution_count": null,
   "metadata": {},
   "outputs": [],
   "source": [
    "# Aquí el método hará un cortocircuito en el segundo elemento (Verdadero) y devolverá Verdadero.\n",
    "print (any([False, True, False, False]))"
   ]
  },
  {
   "cell_type": "code",
   "execution_count": null,
   "metadata": {},
   "outputs": [],
   "source": [
    "# Aquí el método hará un cortocircuito en el primero (Verdadero) y devolverá Verdadero.\n",
    "print (any([True, False, False, False]))"
   ]
  },
  {
   "cell_type": "markdown",
   "metadata": {},
   "source": [
    "En el siguiente código se explica cómo podemos usar la funcion 'any' en la lista "
   ]
  },
  {
   "cell_type": "code",
   "execution_count": null,
   "metadata": {},
   "outputs": [],
   "source": [
    "list1 = []\n",
    "list2 = []\n",
    "\n",
    "# El rango va de 1 a 10 para multiplicar x i\n",
    "for i in range(1,11):\n",
    "    list1.append(4*i) # Agrega un elemento en la lista\n",
    "print(f'La primera lista: {list1}') # Imprime la lista\n",
    "  \n",
    "# El índice para acceder a la lista 2 va de 0 a 9\n",
    "for i in range(0,10):\n",
    "    list2.append(list1[i]%5==0) # Agrega condición de verdad si el elemento cumple la condicion\n",
    "print(f'\\nLa segunda lista: {list2}')\n",
    "  \n",
    "print(f'\\nSerá algún número de la lista divisible entre 5? -> {any(list2)}')"
   ]
  },
  {
   "cell_type": "markdown",
   "metadata": {},
   "source": [
    "Otro ejemplo de Any"
   ]
  },
  {
   "cell_type": "code",
   "execution_count": null,
   "metadata": {},
   "outputs": [],
   "source": [
    "print(any([2 == 2, 3 == 2])) #True\n",
    "\n",
    "print(any([True, False, False])) #True\n",
    "\n",
    "print(any([False, False])) #False\n",
    "\n",
    "dict = {\n",
    "    True : False,\n",
    "    False: False\n",
    "}\n",
    "\n",
    "print(any(dict))#True"
   ]
  },
  {
   "cell_type": "markdown",
   "metadata": {},
   "source": [
    "Ilustración de la función 'All' en python"
   ]
  },
  {
   "cell_type": "code",
   "execution_count": null,
   "metadata": {},
   "outputs": [],
   "source": [
    "lista1=[]\n",
    "lista2=[]\n",
    "  \n",
    "# Todos los números en lista1 están en la forma: 4*i-3\n",
    "for i  in range(1,21):\n",
    "    lista1.append(4*i-3)\n",
    "print(f'La primera lista: {lista1}') # Imprime la lista\n",
    "\n",
    "# list2 almacena información de números impares en list1\n",
    "for i in range(0,20):\n",
    "    lista2.append(lista1[i] % 2 != 0)\n",
    "print(f'\\nLa segunda lista: {lista2}') \n",
    "  \n",
    "print(f'\\nSerán todos los números de la lista impares? => {all(lista2)}')"
   ]
  },
  {
   "cell_type": "markdown",
   "metadata": {},
   "source": [
    "Otros ejemplos de All"
   ]
  },
  {
   "cell_type": "code",
   "execution_count": null,
   "metadata": {},
   "outputs": [],
   "source": [
    "print(all([2 == 2, 3 == 2]))\n",
    "\n",
    "print(all([2 > 1, 3 != 4]))\n",
    "\n",
    "print(all([True, False, False]))\n",
    "\n",
    "print(all([True, True, True]))\n",
    "\n",
    "print(all([False, False]))"
   ]
  }
 ],
 "metadata": {
  "interpreter": {
   "hash": "ad2bdc8ecc057115af97d19610ffacc2b4e99fae6737bb82f5d7fb13d2f2c186"
  },
  "kernelspec": {
   "display_name": "Python 3.9.7 ('base')",
   "language": "python",
   "name": "python3"
  },
  "language_info": {
   "codemirror_mode": {
    "name": "ipython",
    "version": 3
   },
   "file_extension": ".py",
   "mimetype": "text/x-python",
   "name": "python",
   "nbconvert_exporter": "python",
   "pygments_lexer": "ipython3",
   "version": "3.9.7"
  },
  "orig_nbformat": 4
 },
 "nbformat": 4,
 "nbformat_minor": 2
}
